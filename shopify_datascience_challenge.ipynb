{
 "cells": [
  {
   "cell_type": "markdown",
   "id": "89e81d27-6860-495b-af4d-2804d501c97d",
   "metadata": {},
   "source": [
    "\n",
    "#### Adeniyi Adeboye\n",
    "### Winter 2022 Data Science Intern Challenge"
   ]
  },
  {
   "cell_type": "code",
   "execution_count": 1,
   "id": "e000406b-6471-4d48-a5c7-3ceb41d1df3f",
   "metadata": {},
   "outputs": [],
   "source": [
    "import numpy as np\n",
    "import pandas as pd\n",
    "import os\n",
    "import matplotlib.pyplot as plt\n",
    "import seaborn as sns\n",
    "\n",
    "sns.set_style(\"darkgrid\")\n",
    "sns.set_context(\"talk\")"
   ]
  },
  {
   "cell_type": "markdown",
   "id": "d6ef8371-81d9-44d6-9cdd-37bf7e4064aa",
   "metadata": {},
   "source": [
    "### Question 1:\n",
    "\n",
    "##### a. Think about what could be going wrong with our calculation. Think about a better way to evaluate this data. \n",
    "\n",
    "##### b. What metric would you report for this dataset?\n",
    "\n",
    "##### c. What is its value?\n"
   ]
  },
  {
   "cell_type": "code",
   "execution_count": 2,
   "id": "36824b73-c54e-450f-ac57-812967768995",
   "metadata": {},
   "outputs": [],
   "source": [
    "data = pd.read_csv(\"/Users/adadeboy/Downloads/shopify_data.csv\")"
   ]
  },
  {
   "cell_type": "code",
   "execution_count": 3,
   "id": "5532f7bd-7b52-4abe-9eb6-d6468ae9a9d6",
   "metadata": {},
   "outputs": [
    {
     "data": {
      "text/html": [
       "<div>\n",
       "<style scoped>\n",
       "    .dataframe tbody tr th:only-of-type {\n",
       "        vertical-align: middle;\n",
       "    }\n",
       "\n",
       "    .dataframe tbody tr th {\n",
       "        vertical-align: top;\n",
       "    }\n",
       "\n",
       "    .dataframe thead th {\n",
       "        text-align: right;\n",
       "    }\n",
       "</style>\n",
       "<table border=\"1\" class=\"dataframe\">\n",
       "  <thead>\n",
       "    <tr style=\"text-align: right;\">\n",
       "      <th></th>\n",
       "      <th>order_id</th>\n",
       "      <th>shop_id</th>\n",
       "      <th>user_id</th>\n",
       "      <th>order_amount</th>\n",
       "      <th>total_items</th>\n",
       "      <th>payment_method</th>\n",
       "      <th>created_at</th>\n",
       "    </tr>\n",
       "  </thead>\n",
       "  <tbody>\n",
       "    <tr>\n",
       "      <th>0</th>\n",
       "      <td>1</td>\n",
       "      <td>53</td>\n",
       "      <td>746</td>\n",
       "      <td>224</td>\n",
       "      <td>2</td>\n",
       "      <td>cash</td>\n",
       "      <td>2017-03-13 12:36:56</td>\n",
       "    </tr>\n",
       "    <tr>\n",
       "      <th>1</th>\n",
       "      <td>2</td>\n",
       "      <td>92</td>\n",
       "      <td>925</td>\n",
       "      <td>90</td>\n",
       "      <td>1</td>\n",
       "      <td>cash</td>\n",
       "      <td>2017-03-03 17:38:52</td>\n",
       "    </tr>\n",
       "    <tr>\n",
       "      <th>2</th>\n",
       "      <td>3</td>\n",
       "      <td>44</td>\n",
       "      <td>861</td>\n",
       "      <td>144</td>\n",
       "      <td>1</td>\n",
       "      <td>cash</td>\n",
       "      <td>2017-03-14 4:23:56</td>\n",
       "    </tr>\n",
       "    <tr>\n",
       "      <th>3</th>\n",
       "      <td>4</td>\n",
       "      <td>18</td>\n",
       "      <td>935</td>\n",
       "      <td>156</td>\n",
       "      <td>1</td>\n",
       "      <td>credit_card</td>\n",
       "      <td>2017-03-26 12:43:37</td>\n",
       "    </tr>\n",
       "    <tr>\n",
       "      <th>4</th>\n",
       "      <td>5</td>\n",
       "      <td>18</td>\n",
       "      <td>883</td>\n",
       "      <td>156</td>\n",
       "      <td>1</td>\n",
       "      <td>credit_card</td>\n",
       "      <td>2017-03-01 4:35:11</td>\n",
       "    </tr>\n",
       "  </tbody>\n",
       "</table>\n",
       "</div>"
      ],
      "text/plain": [
       "   order_id  shop_id  user_id  order_amount  total_items payment_method  \\\n",
       "0         1       53      746           224            2           cash   \n",
       "1         2       92      925            90            1           cash   \n",
       "2         3       44      861           144            1           cash   \n",
       "3         4       18      935           156            1    credit_card   \n",
       "4         5       18      883           156            1    credit_card   \n",
       "\n",
       "            created_at  \n",
       "0  2017-03-13 12:36:56  \n",
       "1  2017-03-03 17:38:52  \n",
       "2   2017-03-14 4:23:56  \n",
       "3  2017-03-26 12:43:37  \n",
       "4   2017-03-01 4:35:11  "
      ]
     },
     "execution_count": 3,
     "metadata": {},
     "output_type": "execute_result"
    }
   ],
   "source": [
    "data.head()"
   ]
  },
  {
   "cell_type": "markdown",
   "id": "5437d154-8853-4000-9829-4149a93d7487",
   "metadata": {},
   "source": [
    "##### - Lets verify that the time window for this dataset is 30 days"
   ]
  },
  {
   "cell_type": "code",
   "execution_count": 4,
   "id": "102acd06-5b21-4f51-84b8-d3c50a28132e",
   "metadata": {},
   "outputs": [
    {
     "name": "stdout",
     "output_type": "stream",
     "text": [
      "Earliest day of purchase: 2017-03-01 00:08:09 \n",
      "Last Day of purchase: 2017-03-30 23:55:35\n"
     ]
    }
   ],
   "source": [
    "data['created_at'] = pd.to_datetime(data['created_at'])\n",
    "print(f\"Earliest day of purchase: {min(data['created_at'])} \\nLast Day of purchase: {max(data['created_at'])}\")"
   ]
  },
  {
   "cell_type": "markdown",
   "id": "a48369b1-e08a-490b-9d70-6d20dddcbf3e",
   "metadata": {},
   "source": [
    "#### 1. Lets check the distribution of total_items purchased"
   ]
  },
  {
   "cell_type": "code",
   "execution_count": 5,
   "id": "c36d25e1-60b3-42a8-a28e-38846810d781",
   "metadata": {},
   "outputs": [],
   "source": [
    "data_value_cts = data['total_items'].value_counts()"
   ]
  },
  {
   "cell_type": "code",
   "execution_count": 6,
   "id": "e885493d-e07f-4c34-ad5d-79042d4f4cfb",
   "metadata": {},
   "outputs": [
    {
     "data": {
      "text/plain": [
       "Text(0.5, 1.0, 'Total items purchased distribution')"
      ]
     },
     "execution_count": 6,
     "metadata": {},
     "output_type": "execute_result"
    },
    {
     "data": {
      "image/png": "[encoded data removed]",
      "text/plain": [
       "<Figure size 864x576 with 1 Axes>"
      ]
     },
     "metadata": {},
     "output_type": "display_data"
    }
   ],
   "source": [
    "plt.figure(figsize=(12,8))\n",
    "sns.barplot(x=data_value_cts.index.tolist(), y=data_value_cts.values.tolist())\n",
    "plt.xlabel(\"Total items\")\n",
    "plt.ylabel(\"Count\")\n",
    "plt.title(\"Total items purchased distribution\")"
   ]
  },
  {
   "cell_type": "markdown",
   "id": "352e3961-70c4-4beb-8344-e2205c946a78",
   "metadata": {},
   "source": [
    "- As observed above, the total items purchased per transaction are mostly between 1 - 8 items, **except for 2000 items purchased at once** which is clearly an outlier in regards to the total items purchased per transactions."
   ]
  },
  {
   "cell_type": "markdown",
   "id": "6cb767b2-3ff7-4212-8bee-995c8fc1366b",
   "metadata": {},
   "source": [
    "#### 2. Let's check the transactions with 2000 total items"
   ]
  },
  {
   "cell_type": "code",
   "execution_count": 7,
   "id": "4d2d4641-c953-44bc-8030-3c5f384870b8",
   "metadata": {},
   "outputs": [
    {
     "data": {
      "text/html": [
       "<div>\n",
       "<style scoped>\n",
       "    .dataframe tbody tr th:only-of-type {\n",
       "        vertical-align: middle;\n",
       "    }\n",
       "\n",
       "    .dataframe tbody tr th {\n",
       "        vertical-align: top;\n",
       "    }\n",
       "\n",
       "    .dataframe thead th {\n",
       "        text-align: right;\n",
       "    }\n",
       "</style>\n",
       "<table border=\"1\" class=\"dataframe\">\n",
       "  <thead>\n",
       "    <tr style=\"text-align: right;\">\n",
       "      <th></th>\n",
       "      <th>order_id</th>\n",
       "      <th>shop_id</th>\n",
       "      <th>user_id</th>\n",
       "      <th>order_amount</th>\n",
       "      <th>total_items</th>\n",
       "      <th>payment_method</th>\n",
       "      <th>created_at</th>\n",
       "    </tr>\n",
       "  </thead>\n",
       "  <tbody>\n",
       "    <tr>\n",
       "      <th>15</th>\n",
       "      <td>16</td>\n",
       "      <td>42</td>\n",
       "      <td>607</td>\n",
       "      <td>704000</td>\n",
       "      <td>2000</td>\n",
       "      <td>credit_card</td>\n",
       "      <td>2017-03-07 04:00:00</td>\n",
       "    </tr>\n",
       "    <tr>\n",
       "      <th>60</th>\n",
       "      <td>61</td>\n",
       "      <td>42</td>\n",
       "      <td>607</td>\n",
       "      <td>704000</td>\n",
       "      <td>2000</td>\n",
       "      <td>credit_card</td>\n",
       "      <td>2017-03-04 04:00:00</td>\n",
       "    </tr>\n",
       "    <tr>\n",
       "      <th>520</th>\n",
       "      <td>521</td>\n",
       "      <td>42</td>\n",
       "      <td>607</td>\n",
       "      <td>704000</td>\n",
       "      <td>2000</td>\n",
       "      <td>credit_card</td>\n",
       "      <td>2017-03-02 04:00:00</td>\n",
       "    </tr>\n",
       "    <tr>\n",
       "      <th>1104</th>\n",
       "      <td>1105</td>\n",
       "      <td>42</td>\n",
       "      <td>607</td>\n",
       "      <td>704000</td>\n",
       "      <td>2000</td>\n",
       "      <td>credit_card</td>\n",
       "      <td>2017-03-24 04:00:00</td>\n",
       "    </tr>\n",
       "    <tr>\n",
       "      <th>1362</th>\n",
       "      <td>1363</td>\n",
       "      <td>42</td>\n",
       "      <td>607</td>\n",
       "      <td>704000</td>\n",
       "      <td>2000</td>\n",
       "      <td>credit_card</td>\n",
       "      <td>2017-03-15 04:00:00</td>\n",
       "    </tr>\n",
       "    <tr>\n",
       "      <th>1436</th>\n",
       "      <td>1437</td>\n",
       "      <td>42</td>\n",
       "      <td>607</td>\n",
       "      <td>704000</td>\n",
       "      <td>2000</td>\n",
       "      <td>credit_card</td>\n",
       "      <td>2017-03-11 04:00:00</td>\n",
       "    </tr>\n",
       "    <tr>\n",
       "      <th>1562</th>\n",
       "      <td>1563</td>\n",
       "      <td>42</td>\n",
       "      <td>607</td>\n",
       "      <td>704000</td>\n",
       "      <td>2000</td>\n",
       "      <td>credit_card</td>\n",
       "      <td>2017-03-19 04:00:00</td>\n",
       "    </tr>\n",
       "    <tr>\n",
       "      <th>1602</th>\n",
       "      <td>1603</td>\n",
       "      <td>42</td>\n",
       "      <td>607</td>\n",
       "      <td>704000</td>\n",
       "      <td>2000</td>\n",
       "      <td>credit_card</td>\n",
       "      <td>2017-03-17 04:00:00</td>\n",
       "    </tr>\n",
       "    <tr>\n",
       "      <th>2153</th>\n",
       "      <td>2154</td>\n",
       "      <td>42</td>\n",
       "      <td>607</td>\n",
       "      <td>704000</td>\n",
       "      <td>2000</td>\n",
       "      <td>credit_card</td>\n",
       "      <td>2017-03-12 04:00:00</td>\n",
       "    </tr>\n",
       "    <tr>\n",
       "      <th>2297</th>\n",
       "      <td>2298</td>\n",
       "      <td>42</td>\n",
       "      <td>607</td>\n",
       "      <td>704000</td>\n",
       "      <td>2000</td>\n",
       "      <td>credit_card</td>\n",
       "      <td>2017-03-07 04:00:00</td>\n",
       "    </tr>\n",
       "    <tr>\n",
       "      <th>2835</th>\n",
       "      <td>2836</td>\n",
       "      <td>42</td>\n",
       "      <td>607</td>\n",
       "      <td>704000</td>\n",
       "      <td>2000</td>\n",
       "      <td>credit_card</td>\n",
       "      <td>2017-03-28 04:00:00</td>\n",
       "    </tr>\n",
       "    <tr>\n",
       "      <th>2969</th>\n",
       "      <td>2970</td>\n",
       "      <td>42</td>\n",
       "      <td>607</td>\n",
       "      <td>704000</td>\n",
       "      <td>2000</td>\n",
       "      <td>credit_card</td>\n",
       "      <td>2017-03-28 04:00:00</td>\n",
       "    </tr>\n",
       "    <tr>\n",
       "      <th>3332</th>\n",
       "      <td>3333</td>\n",
       "      <td>42</td>\n",
       "      <td>607</td>\n",
       "      <td>704000</td>\n",
       "      <td>2000</td>\n",
       "      <td>credit_card</td>\n",
       "      <td>2017-03-24 04:00:00</td>\n",
       "    </tr>\n",
       "    <tr>\n",
       "      <th>4056</th>\n",
       "      <td>4057</td>\n",
       "      <td>42</td>\n",
       "      <td>607</td>\n",
       "      <td>704000</td>\n",
       "      <td>2000</td>\n",
       "      <td>credit_card</td>\n",
       "      <td>2017-03-28 04:00:00</td>\n",
       "    </tr>\n",
       "    <tr>\n",
       "      <th>4646</th>\n",
       "      <td>4647</td>\n",
       "      <td>42</td>\n",
       "      <td>607</td>\n",
       "      <td>704000</td>\n",
       "      <td>2000</td>\n",
       "      <td>credit_card</td>\n",
       "      <td>2017-03-02 04:00:00</td>\n",
       "    </tr>\n",
       "    <tr>\n",
       "      <th>4868</th>\n",
       "      <td>4869</td>\n",
       "      <td>42</td>\n",
       "      <td>607</td>\n",
       "      <td>704000</td>\n",
       "      <td>2000</td>\n",
       "      <td>credit_card</td>\n",
       "      <td>2017-03-22 04:00:00</td>\n",
       "    </tr>\n",
       "    <tr>\n",
       "      <th>4882</th>\n",
       "      <td>4883</td>\n",
       "      <td>42</td>\n",
       "      <td>607</td>\n",
       "      <td>704000</td>\n",
       "      <td>2000</td>\n",
       "      <td>credit_card</td>\n",
       "      <td>2017-03-25 04:00:00</td>\n",
       "    </tr>\n",
       "  </tbody>\n",
       "</table>\n",
       "</div>"
      ],
      "text/plain": [
       "      order_id  shop_id  user_id  order_amount  total_items payment_method  \\\n",
       "15          16       42      607        704000         2000    credit_card   \n",
       "60          61       42      607        704000         2000    credit_card   \n",
       "520        521       42      607        704000         2000    credit_card   \n",
       "1104      1105       42      607        704000         2000    credit_card   \n",
       "1362      1363       42      607        704000         2000    credit_card   \n",
       "1436      1437       42      607        704000         2000    credit_card   \n",
       "1562      1563       42      607        704000         2000    credit_card   \n",
       "1602      1603       42      607        704000         2000    credit_card   \n",
       "2153      2154       42      607        704000         2000    credit_card   \n",
       "2297      2298       42      607        704000         2000    credit_card   \n",
       "2835      2836       42      607        704000         2000    credit_card   \n",
       "2969      2970       42      607        704000         2000    credit_card   \n",
       "3332      3333       42      607        704000         2000    credit_card   \n",
       "4056      4057       42      607        704000         2000    credit_card   \n",
       "4646      4647       42      607        704000         2000    credit_card   \n",
       "4868      4869       42      607        704000         2000    credit_card   \n",
       "4882      4883       42      607        704000         2000    credit_card   \n",
       "\n",
       "              created_at  \n",
       "15   2017-03-07 04:00:00  \n",
       "60   2017-03-04 04:00:00  \n",
       "520  2017-03-02 04:00:00  \n",
       "1104 2017-03-24 04:00:00  \n",
       "1362 2017-03-15 04:00:00  \n",
       "1436 2017-03-11 04:00:00  \n",
       "1562 2017-03-19 04:00:00  \n",
       "1602 2017-03-17 04:00:00  \n",
       "2153 2017-03-12 04:00:00  \n",
       "2297 2017-03-07 04:00:00  \n",
       "2835 2017-03-28 04:00:00  \n",
       "2969 2017-03-28 04:00:00  \n",
       "3332 2017-03-24 04:00:00  \n",
       "4056 2017-03-28 04:00:00  \n",
       "4646 2017-03-02 04:00:00  \n",
       "4868 2017-03-22 04:00:00  \n",
       "4882 2017-03-25 04:00:00  "
      ]
     },
     "execution_count": 7,
     "metadata": {},
     "output_type": "execute_result"
    }
   ],
   "source": [
    "data[data[\"total_items\"] == 2000]"
   ]
  },
  {
   "cell_type": "markdown",
   "id": "8d3959ec-2425-421b-b71c-b4b669fd3037",
   "metadata": {},
   "source": [
    "- As observed above, the total_items == 2000, has a very HIGH order amount value (704000) which is significantly higher than others, and also what is interestting is that this particular purchase comes from: \n",
    "    - **Unique customer (user id == 607)**\n",
    "    - **Unique shop (shop id == 42)**\n",
    "    - **Unique payment method (credit card)**\n",
    "    - **Unique timestamp (04:00:00)**\n",
    "- This may indicate that this specific customer is purchasing the shoes in bulk as a **Wholesaler** and reselling and redistributing these shoes to **retailers** at a much higher rate than how much he/she bought it.\n",
    "- This may also be anomaly in the dataset maybe duplicate entries for the same customer, shop and timestamp."
   ]
  },
  {
   "cell_type": "markdown",
   "id": "42c41633-ca91-4c91-98b7-198ebf894334",
   "metadata": {},
   "source": [
    "#### 3. Lets take a look into the measures of central tendency (Mean & Median) and Max for each of the total_items purchased"
   ]
  },
  {
   "cell_type": "code",
   "execution_count": 8,
   "id": "fbf46d67-a9b9-4975-8c15-9f19fe4aeb91",
   "metadata": {},
   "outputs": [],
   "source": [
    "agg_dict = {\n",
    "    \"avg_order_value_per_item\": pd.NamedAgg(column='order_amount', aggfunc=np.mean),\n",
    "    \"median_order_value_per_item\": pd.NamedAgg(column='order_amount', aggfunc=np.median),\n",
    "    \"max_order_value_per_item\": pd.NamedAgg(column='order_amount', aggfunc=np.max),\n",
    "    \"min_order_value_per_item\": pd.NamedAgg(column='order_amount', aggfunc=np.min)\n",
    "}\n",
    "data_agg = data.groupby(\"total_items\").agg(**agg_dict)"
   ]
  },
  {
   "cell_type": "code",
   "execution_count": 9,
   "id": "09403b86-3d9b-469c-9225-13070e047e46",
   "metadata": {},
   "outputs": [
    {
     "data": {
      "text/html": [
       "<div>\n",
       "<style scoped>\n",
       "    .dataframe tbody tr th:only-of-type {\n",
       "        vertical-align: middle;\n",
       "    }\n",
       "\n",
       "    .dataframe tbody tr th {\n",
       "        vertical-align: top;\n",
       "    }\n",
       "\n",
       "    .dataframe thead th {\n",
       "        text-align: right;\n",
       "    }\n",
       "</style>\n",
       "<table border=\"1\" class=\"dataframe\">\n",
       "  <thead>\n",
       "    <tr style=\"text-align: right;\">\n",
       "      <th></th>\n",
       "      <th>avg_order_value_per_item</th>\n",
       "      <th>median_order_value_per_item</th>\n",
       "      <th>max_order_value_per_item</th>\n",
       "      <th>min_order_value_per_item</th>\n",
       "    </tr>\n",
       "    <tr>\n",
       "      <th>total_items</th>\n",
       "      <th></th>\n",
       "      <th></th>\n",
       "      <th></th>\n",
       "      <th></th>\n",
       "    </tr>\n",
       "  </thead>\n",
       "  <tbody>\n",
       "    <tr>\n",
       "      <th>1</th>\n",
       "      <td>417.364481</td>\n",
       "      <td>153</td>\n",
       "      <td>25725</td>\n",
       "      <td>90</td>\n",
       "    </tr>\n",
       "    <tr>\n",
       "      <th>2</th>\n",
       "      <td>750.215066</td>\n",
       "      <td>306</td>\n",
       "      <td>51450</td>\n",
       "      <td>180</td>\n",
       "    </tr>\n",
       "    <tr>\n",
       "      <th>3</th>\n",
       "      <td>1191.076514</td>\n",
       "      <td>459</td>\n",
       "      <td>77175</td>\n",
       "      <td>270</td>\n",
       "    </tr>\n",
       "    <tr>\n",
       "      <th>4</th>\n",
       "      <td>947.686007</td>\n",
       "      <td>592</td>\n",
       "      <td>102900</td>\n",
       "      <td>360</td>\n",
       "    </tr>\n",
       "    <tr>\n",
       "      <th>5</th>\n",
       "      <td>759.350649</td>\n",
       "      <td>765</td>\n",
       "      <td>1760</td>\n",
       "      <td>450</td>\n",
       "    </tr>\n",
       "    <tr>\n",
       "      <th>6</th>\n",
       "      <td>17940.000000</td>\n",
       "      <td>948</td>\n",
       "      <td>154350</td>\n",
       "      <td>774</td>\n",
       "    </tr>\n",
       "    <tr>\n",
       "      <th>8</th>\n",
       "      <td>1064.000000</td>\n",
       "      <td>1064</td>\n",
       "      <td>1064</td>\n",
       "      <td>1064</td>\n",
       "    </tr>\n",
       "    <tr>\n",
       "      <th>2000</th>\n",
       "      <td>704000.000000</td>\n",
       "      <td>704000</td>\n",
       "      <td>704000</td>\n",
       "      <td>704000</td>\n",
       "    </tr>\n",
       "  </tbody>\n",
       "</table>\n",
       "</div>"
      ],
      "text/plain": [
       "             avg_order_value_per_item  median_order_value_per_item  \\\n",
       "total_items                                                          \n",
       "1                          417.364481                          153   \n",
       "2                          750.215066                          306   \n",
       "3                         1191.076514                          459   \n",
       "4                          947.686007                          592   \n",
       "5                          759.350649                          765   \n",
       "6                        17940.000000                          948   \n",
       "8                         1064.000000                         1064   \n",
       "2000                    704000.000000                       704000   \n",
       "\n",
       "             max_order_value_per_item  min_order_value_per_item  \n",
       "total_items                                                      \n",
       "1                               25725                        90  \n",
       "2                               51450                       180  \n",
       "3                               77175                       270  \n",
       "4                              102900                       360  \n",
       "5                                1760                       450  \n",
       "6                              154350                       774  \n",
       "8                                1064                      1064  \n",
       "2000                           704000                    704000  "
      ]
     },
     "execution_count": 9,
     "metadata": {},
     "output_type": "execute_result"
    }
   ],
   "source": [
    "data_agg"
   ]
  },
  {
   "cell_type": "markdown",
   "id": "908ba60f-6ae7-480a-b0a4-77c7aed46780",
   "metadata": {},
   "source": [
    "- As observed from the above table, there are huge differences between the min and max items purchased for total_items 1,2,3,4,6 which may **indicate data entry error** since WE DO NOT EXPECT TO PAY:\n",
    "    - $$25725 for a 1 item (a pair of shoes) transaction\n",
    "    - $51450 for a 2 item (two pair of shoes) transaction\n",
    "    - $77175 for a 3 item (three pair of shoes) transaction\n",
    "    - $102900 for a 4 items (four pair of shoes) transaction\n",
    "    - $154350 for a 6 items (six pair of shoes) transaction\n",
    "---------------------------------------------\n",
    "- Another key observation is that, you notice that for each total item class, even though the average order value tends to significantly differ from the minimum order value, **the median order value stays consistently close to the minimum value, i.e. NOT affected by the maximum outliers order value for each total item**\n"
   ]
  },
  {
   "cell_type": "markdown",
   "id": "3695eeed-1313-4607-adf9-493c7d1b6bef",
   "metadata": {},
   "source": [
    "#### 4. Lets look at the order amount distribution for each total_item class"
   ]
  },
  {
   "cell_type": "code",
   "execution_count": 10,
   "id": "15fed570-2af8-4e09-86c9-2335021784de",
   "metadata": {},
   "outputs": [],
   "source": [
    "data['total_items_str'] = data['total_items'].astype('str')"
   ]
  },
  {
   "cell_type": "code",
   "execution_count": 11,
   "id": "74f765ff-6393-4415-8323-2875feb55686",
   "metadata": {},
   "outputs": [
    {
     "data": {
      "text/plain": [
       "<matplotlib.legend.Legend at 0x7ffa95d29760>"
      ]
     },
     "execution_count": 11,
     "metadata": {},
     "output_type": "execute_result"
    },
    {
     "data": {
      "image/png": "[encoded data removed]",
      "text/plain": [
       "<Figure size 864x576 with 1 Axes>"
      ]
     },
     "metadata": {},
     "output_type": "display_data"
    }
   ],
   "source": [
    "plt.figure(figsize=(12,8))\n",
    "fig = sns.scatterplot(data=data, x=\"order_id\", y=\"order_amount\", hue=\"total_items_str\", \n",
    "                      style=\"total_items_str\", palette = \"plasma_r\")\n",
    "fig.legend(bbox_to_anchor=(1.01, 0.49), loc='lower left')"
   ]
  },
  {
   "cell_type": "code",
   "execution_count": 12,
   "id": "598f894b-2edf-4477-80b0-8bfc851b127a",
   "metadata": {},
   "outputs": [
    {
     "data": {
      "text/plain": [
       "<AxesSubplot:xlabel='total_items', ylabel='order_amount'>"
      ]
     },
     "execution_count": 12,
     "metadata": {},
     "output_type": "execute_result"
    },
    {
     "data": {
      "image/png": "[encoded data removed]",
      "text/plain": [
       "<Figure size 864x576 with 1 Axes>"
      ]
     },
     "metadata": {},
     "output_type": "display_data"
    }
   ],
   "source": [
    "plt.figure(figsize=(12,8))\n",
    "sns.barplot(x=\"total_items\", y=\"order_amount\", data=data, palette = \"plasma_r\")"
   ]
  },
  {
   "cell_type": "markdown",
   "id": "31a7384f-8b03-4c30-990f-2d3a078098c9",
   "metadata": {},
   "source": [
    "- As observed from the above plots, the **HIGH order amounts values** from total_items: 1,2,3,6 and 2000 which may seems to be **outliers** especially for 1,2,3 and 6 dominate the scatter plots and furthermore in the bar plots, the order amount from 2000 total_items class clearly dominate the distribution. \n",
    "\n",
    "--------------------------\n",
    "\n",
    "- This distribution of outliers clearly indicate that the **Average order value** cannot be used as a metric to evaluate the growth of this eCommerce business.\n",
    "\n",
    "- This is because **Average order value** is highly susceptible to the influence of the outliers, and is strongly influenced when the distribution of the order amount (in our case) is highly skewed."
   ]
  },
  {
   "cell_type": "markdown",
   "id": "b633f9fa-e955-42c0-b53a-f0c61dbb7a6f",
   "metadata": {},
   "source": [
    "#### 5. Median order value \n",
    "\n",
    "- Median is less affected by outliers and skewed data and will never be influenced by the impact of the abrupt HIGH order value amount given to low total items classes such as 1, 2, 3."
   ]
  },
  {
   "cell_type": "code",
   "execution_count": 13,
   "id": "98533cf8-4c8e-439e-b6e8-fedb1f051161",
   "metadata": {},
   "outputs": [
    {
     "name": "stdout",
     "output_type": "stream",
     "text": [
      "Preferred metric - Median order value: 284.0\n"
     ]
    }
   ],
   "source": [
    "print(f\"Preferred metric - Median order value: {np.median(data['order_amount'])}\")"
   ]
  },
  {
   "cell_type": "markdown",
   "id": "6e1e8d2b-cfbd-4262-8605-f5e158a0fd8d",
   "metadata": {},
   "source": [
    "#### Questions 1 (Answers)\n",
    "\n",
    "##### a. As observed from my above analytic approach to understand the dataset and identify what is going wrong with the calculation, the following were deduced:\n",
    "\n",
    "- The 17 purchases of 2000 total_items seems to be a predominant outlier in the dataset; furthermore, their seems to be also significantly high order amount for some of the 1,2,3,4 and 6 total_items purchases which also seems to be due to data entry errors. \n",
    "\n",
    "- Due to the above identified outliers, the average order value cannot be considered a value metric for ecommece business, and a better way to calculate the order value will be using **\"MEDIAN\"**\n",
    "\n",
    "- Why median, This is because Median is less affected by outliers and not influenced or impacted by skewed data.\n",
    "\n",
    "##### b. I reported the Median order value after the analytic approach I took to identify the outliers.\n",
    "\n",
    "##### c. Median order value = 284.0\n"
   ]
  },
  {
   "cell_type": "code",
   "execution_count": null,
   "id": "01f09eb1-b5fe-4e88-a701-a9782fd4bd7f",
   "metadata": {},
   "outputs": [],
   "source": []
  },
  {
   "cell_type": "markdown",
   "id": "33c78af9-008e-4a2e-93c1-c2d36a5a166a",
   "metadata": {},
   "source": [
    "### Question 2: \n",
    "\n",
    "For this question you’ll need to use SQL. Follow this link to access the data set required for the challenge. Please use queries to answer the following questions. Paste your queries along with your final numerical answers below.\n",
    "\n",
    "**a. How many orders were shipped by Speedy Express in total?**\n",
    "\n",
    "SELECT COUNT(*) as orders_count\n",
    "\n",
    "FROM Orders as o\n",
    "\n",
    "INNER JOIN Shippers as s\n",
    "\n",
    "ON s.ShipperID = o.ShipperID\n",
    "\n",
    "WHERE s.ShipperName = 'Speedy Express'\n",
    "\n",
    "ORDER BY 1 DESC;\n",
    "\n",
    "**ANSWER: 54**\n",
    "\n",
    "**b. What is the last name of the employee with the most orders?**\n",
    "\n",
    "SELECT e.LastName, COUNT(*) as orders_count\n",
    "\n",
    "FROM Orders as o\n",
    "\n",
    "INNER JOIN Employees as e\n",
    "\n",
    "ON e.EmployeeID = o.EmployeeID\n",
    "\n",
    "GROUP BY e.LastName\n",
    "\n",
    "ORDER BY orders_count DESC\n",
    "\n",
    "LIMIT 1;\n",
    "\n",
    "**ANSWER: Peacock\n",
    "(40 orders)**\n",
    "\n",
    "**c. What product was ordered the most by customers in Germany?**\n",
    "\n",
    "\n",
    "SELECT p.ProductID, p.ProductName, SUM(Quantity) AS TotalQuantity\n",
    "\n",
    "FROM Orders AS o, OrderDetails AS od, Customers AS c, Products AS p\n",
    "\n",
    "WHERE c.Country = \"Germany\" AND od.OrderID = o.OrderID AND od.ProductID = p.ProductID AND c.CustomerID = o.CustomerID\n",
    "\n",
    "GROUP BY p.ProductID\n",
    "\n",
    "ORDER BY TotalQuantity DESC\n",
    "\n",
    "LIMIT 1;\n",
    "\n",
    "**ANSWER: Boston Crab Meat\n",
    "(ProductID: 40, TotalQuantity: 160)**\n",
    "\n"
   ]
  }
 ],
 "metadata": {
  "kernelspec": {
   "display_name": "Python 3",
   "language": "python",
   "name": "python3"
  },
  "language_info": {
   "codemirror_mode": {
    "name": "ipython",
    "version": 3
   },
   "file_extension": ".py",
   "mimetype": "text/x-python",
   "name": "python",
   "nbconvert_exporter": "python",
   "pygments_lexer": "ipython3",
   "version": "3.8.8"
  }
 },
 "nbformat": 4,
 "nbformat_minor": 5
}
